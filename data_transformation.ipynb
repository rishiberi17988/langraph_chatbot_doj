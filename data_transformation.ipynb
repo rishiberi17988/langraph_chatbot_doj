{
 "cells": [
  {
   "cell_type": "code",
   "execution_count": null,
   "metadata": {},
   "outputs": [],
   "source": [
    "import json\n",
    "with open('data.json', 'r') as f:\n",
    "    data = json.load(f)"
   ]
  },
  {
   "cell_type": "code",
   "execution_count": 3,
   "metadata": {},
   "outputs": [],
   "source": [
    "output_list = []\n",
    "\n",
    "# Loop through each dictionary in the data_list\n",
    "for x in data:\n",
    "    try:# Convert each dictionary into the desired format\n",
    "        output = {\n",
    "        \"messages\": [\n",
    "            {\"role\": \"system\", \"content\": \"Marv is a factual chatbot.\"},\n",
    "            {\"role\": \"user\", \"content\": x['question']},\n",
    "            {\"role\": \"assistant\", \"content\": x['answer']}\n",
    "        ]\n",
    "    }\n",
    "    # Append the converted object to the output list\n",
    "        output_list.append(output)\n",
    "    except:\n",
    "        pass"
   ]
  },
  {
   "cell_type": "code",
   "execution_count": 9,
   "metadata": {},
   "outputs": [],
   "source": [
    "with open('final_data.json', 'w') as file:\n",
    "    json.dump(i, file, indent=2)"
   ]
  },
  {
   "cell_type": "code",
   "execution_count": 4,
   "metadata": {},
   "outputs": [
    {
     "data": {
      "text/plain": [
       "15042"
      ]
     },
     "execution_count": 4,
     "metadata": {},
     "output_type": "execute_result"
    }
   ],
   "source": [
    "len(output_list)"
   ]
  },
  {
   "cell_type": "code",
   "execution_count": 20,
   "metadata": {},
   "outputs": [
    {
     "name": "stdout",
     "output_type": "stream",
     "text": [
      "Data successfully split into train and test sets.\n"
     ]
    }
   ],
   "source": [
    "import json\n",
    "import random\n",
    "from sklearn.model_selection import train_test_split\n",
    "\n",
    "# Load the JSON data\n",
    "with open('final_data.json', 'r') as file:\n",
    "    data = json.load(file)\n",
    "\n",
    "# Optionally, shuffle the data for randomness\n",
    "random.shuffle(data)\n",
    "\n",
    "# Split the data (80% train, 20% test)\n",
    "train_data, test_data = train_test_split(data, test_size=0.2)\n",
    "\n",
    "# Save the train data\n",
    "with open('train_data.json', 'w') as train_file:\n",
    "    json.dump(train_data, train_file, indent=4)\n",
    "\n",
    "# Save the test data\n",
    "with open('test_data.json', 'w') as test_file:\n",
    "    json.dump(test_data, test_file, indent=4)\n",
    "\n",
    "print(\"Data successfully split into train and test sets.\")\n"
   ]
  },
  {
   "cell_type": "code",
   "execution_count": 7,
   "metadata": {},
   "outputs": [],
   "source": [
    "output_list = []\n",
    "\n",
    "# Loop through each dictionary in the data_list\n",
    "for x in data:\n",
    "    try:# Convert each dictionary into the desired format\n",
    "        output = type(x[\"answer\"])\n",
    "    # Append the converted object to the output list\n",
    "        output_list.append(output)\n",
    "    except:\n",
    "        pass"
   ]
  },
  {
   "cell_type": "code",
   "execution_count": 8,
   "metadata": {},
   "outputs": [
    {
     "data": {
      "text/plain": [
       "{int, str}"
      ]
     },
     "execution_count": 8,
     "metadata": {},
     "output_type": "execute_result"
    }
   ],
   "source": [
    "set(output_list)"
   ]
  },
  {
   "cell_type": "code",
   "execution_count": 4,
   "metadata": {},
   "outputs": [],
   "source": [
    "i = []\n",
    "for x in data :\n",
    "    try:\n",
    "        if(type(x[\"answer\"])==str):\n",
    "            output = {\n",
    "        \"messages\": [\n",
    "            {\"role\": \"system\", \"content\": \"Marv is a factual chatbot.\"},\n",
    "            {\"role\": \"user\", \"content\": x['question']},\n",
    "            {\"role\": \"assistant\", \"content\": x['answer']}\n",
    "        ]}\n",
    "            i.append(output)\n",
    "        elif(type(x[\"answer\"])==int):\n",
    "            new_value = str(x[\"answer\"])\n",
    "            output = {\n",
    "        \"messages\": [\n",
    "            {\"role\": \"system\", \"content\": \"Marv is a factual chatbot.\"},\n",
    "            {\"role\": \"user\", \"content\": x['question']},\n",
    "            {\"role\": \"assistant\", \"content\": new_value}\n",
    "        ]}\n",
    "    except:\n",
    "        pass"
   ]
  },
  {
   "cell_type": "code",
   "execution_count": 6,
   "metadata": {},
   "outputs": [
    {
     "data": {
      "text/plain": [
       "15041"
      ]
     },
     "execution_count": 6,
     "metadata": {},
     "output_type": "execute_result"
    }
   ],
   "source": [
    "len(i)"
   ]
  },
  {
   "cell_type": "code",
   "execution_count": 16,
   "metadata": {},
   "outputs": [],
   "source": [
    "z = []\n",
    "for xyz in data :\n",
    "    for message in xyz['messages']:\n",
    "        content = message['content']\n",
    "        content_type = type(content)\n",
    "        z.append(content_type)\n",
    "    \n",
    "\n"
   ]
  },
  {
   "cell_type": "code",
   "execution_count": 18,
   "metadata": {},
   "outputs": [],
   "source": [
    "s = set(z)"
   ]
  },
  {
   "cell_type": "code",
   "execution_count": 19,
   "metadata": {},
   "outputs": [
    {
     "data": {
      "text/plain": [
       "{str}"
      ]
     },
     "execution_count": 19,
     "metadata": {},
     "output_type": "execute_result"
    }
   ],
   "source": [
    "s"
   ]
  },
  {
   "cell_type": "code",
   "execution_count": null,
   "metadata": {},
   "outputs": [],
   "source": []
  },
  {
   "cell_type": "code",
   "execution_count": null,
   "metadata": {},
   "outputs": [],
   "source": []
  }
 ],
 "metadata": {
  "kernelspec": {
   "display_name": "Python 3",
   "language": "python",
   "name": "python3"
  },
  "language_info": {
   "codemirror_mode": {
    "name": "ipython",
    "version": 3
   },
   "file_extension": ".py",
   "mimetype": "text/x-python",
   "name": "python",
   "nbconvert_exporter": "python",
   "pygments_lexer": "ipython3",
   "version": "3.12.4"
  }
 },
 "nbformat": 4,
 "nbformat_minor": 2
}
